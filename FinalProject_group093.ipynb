{
 "cells": [
  {
   "cell_type": "markdown",
   "metadata": {},
   "source": [
    "# COGS 108 - Final Project\n",
    "# Alcohol Consumption and University Reputation"
   ]
  },
  {
   "cell_type": "markdown",
   "metadata": {},
   "source": [
    "# Overview"
   ]
  },
  {
   "cell_type": "markdown",
   "metadata": {},
   "source": [
    "*Alcohol has a major impact on American universities, despite laws that set the minimum drinking age to 21 and mandate universities to implement regulations on students to prevent excessive drinking. We are curious about whether this is in the case for foreign countries as well, in which the minimum drinking age is set lower than America. Our project focused on investigating whether there was a correlation between the amount of alcohol a country consumes and the average scores of its universities, weighted on quality of education, alumni employment, quality of faculty, and research performance. We performed a linear regression analysis and discovered that there is a positive correlation between a country's average alcohol consumption and the average scores of its universities.*"
   ]
  },
  {
   "cell_type": "markdown",
   "metadata": {},
   "source": [
    "# Names\n",
    "\n",
    "- Pui Ting Wong\n",
    "- Evan Eguchi\n",
    "- Justin Yu\n",
    "- Steven Schaeffer"
   ]
  },
  {
   "cell_type": "markdown",
   "metadata": {},
   "source": [
    "<a id='research_question'></a>\n",
    "# Research Question"
   ]
  },
  {
   "cell_type": "markdown",
   "metadata": {},
   "source": [
    "*How does the rate of alcohol consumption among citizens within a country predict the reputation of that country's universities?*"
   ]
  },
  {
   "cell_type": "markdown",
   "metadata": {},
   "source": [
    "<a id='background'></a>\n",
    "\n",
    "## Background & Prior Work"
   ]
  },
  {
   "cell_type": "markdown",
   "metadata": {},
   "source": [
    "In the article \"University drinking culture is dangerous, not amusing\", the author discusses the drinking culture at the University of Maine. This is a reflection of American college drinking culture. The article mentioned that even though most undergraduates are younger than 21, below the legal drinking age, a strong drinking culture is still prevalent on campus. This article led us to think about college drinking culture. In the article \"Is Japan's after-work drinking culture a thing of the past?\", the author describes the drinking culture in Japan, where drinking is considered an essential part of socializing. This article led us to think about the drinking culture of different countries. Many countries have slightly different drinking cultures and drink for different purposes. Differences among cultures affect the volume of alcohol people consume from these different countries. In the article \"Years of education may impact drinking behavior and risk of alcohol dependence\", the author shows that as a person receives additional education they have a lower risk of alcohol dependence, stating that students \"with an additional 3.61 years of schooling were associated with an approximately 50% reduced risk of alcohol dependence\". This led us to think about if higher quality education in a country would further reduce the drinking rate. Combining the reflections we have for these three articles, we want to know how the average education quality of a country could reflect the alcohol consumption of the people.\n",
    "\n",
    "\n",
    "References (include links):\n",
    "- 1)\"University drinking culture is dangerous, not amusing\" Maine Campus April 2020\n",
    "\n",
    "https://mainecampus.com/2020/04/12640/\n",
    "\n",
    "- 2)\"Is Japan's after-work drinking culture a thing of the past?\" dw.com October 2019\n",
    "\n",
    "https://www.dw.com/en/is-japans-after-work-drinking-culture-a-thing-of-the-past/a-50720989\n",
    "\n",
    "- 3)\"Years of education may impact drinking behavior and risk of alcohol dependence\" October 2019\n",
    "\n",
    "https://www.sciencedaily.com/releases/2019/10/191025075838.htm"
   ]
  },
  {
   "cell_type": "markdown",
   "metadata": {},
   "source": [
    "# Hypothesis\n"
   ]
  },
  {
   "cell_type": "markdown",
   "metadata": {},
   "source": [
    "The higher education quality of a country should be negatively correlated with alcohol consumption.\n",
    "\n",
    "Studies reflect that people who received higher education will have a lower risk of alcohol dependence. If people in a country have more opportunities to receive better education, they should be less likely to drink. The reason behind this is that when people receive higher education, they have more opportunities, and it is easier to make a living so they should be less stressed about life and less likely to drink due to stress. When a country has higher average education quality, this should also imply that the country is more developed with more opportunities and has better welfare for the people. Since alcohol consumption is often due to stress, people from these countries should also be less likely to drink."
   ]
  },
  {
   "cell_type": "markdown",
   "metadata": {},
   "source": [
    "# Dataset(s)"
   ]
  },
  {
   "cell_type": "markdown",
   "metadata": {},
   "source": [
    "Dataset #1: Alcohol Consumption around the World\n",
    "- Link to the dataset: https://www.kaggle.com/codebreaker619/alcohol-comsumption-around-the-world\n",
    "- Number of observations: 965\n",
    "- *Alcohol Consumption: Average alcohol consumption (by type of alcohol) between different regions in the world.*\n",
    "\n",
    "Dataset #2: CWUR University Rankings 2019-20\n",
    "- https://www.kaggle.com/mdelrosa/cwur-university-rankings-201920\n",
    "- Number of observations: 16,000\n",
    "- *CWUR University Rankings: Academic rankings between universities on a global scale.*\n",
    "\n",
    "We plan to merge the two datasets on the Locations of the two datasets, and specifically taking into account the rankings and scores of universities and their average alcohol consumptions."
   ]
  },
  {
   "cell_type": "markdown",
   "metadata": {},
   "source": [
    "# Setup"
   ]
  },
  {
   "cell_type": "code",
   "execution_count": 1,
   "metadata": {},
   "outputs": [],
   "source": [
    "import seaborn as sns\n",
    "import matplotlib as mpl\n",
    "import matplotlib.pyplot as plt\n",
    "import pandas as pd\n",
    "import numpy as np\n",
    "\n",
    "import patsy\n",
    "import statsmodels.api as sm\n",
    "import scipy.stats as stats\n",
    "from scipy.stats import ttest_ind, chisquare, normaltest\n",
    "\n",
    "from sklearn.svm import SVC\n",
    "from sklearn.metrics import classification_report, precision_recall_fscore_support"
   ]
  },
  {
   "cell_type": "markdown",
   "metadata": {},
   "source": [
    "# Data Cleaning"
   ]
  },
  {
   "cell_type": "code",
   "execution_count": 2,
   "metadata": {},
   "outputs": [],
   "source": [
    "uni_df = pd.read_csv('data/cwur_2019.csv')\n",
    "uni_df = uni_df[['world_rank', 'institution', 'location', 'education_quality',\n",
    "                 'alumni_employment', 'faculty_quality', 'research_performance', 'score']]\n",
    "\n",
    "alc_df = pd.read_csv('data/drinks.csv')"
   ]
  },
  {
   "cell_type": "code",
   "execution_count": 3,
   "metadata": {},
   "outputs": [],
   "source": [
    "## Clean new dataframes\n",
    "uni_df = uni_df.rename({'world_rank' : 'rank'}, axis='columns')\n",
    "\n",
    "alc_df = alc_df.rename({'country' : 'location', 'total_litres_of_pure_alcohol' : 'litres_alcohol'}, axis='columns')\n",
    "alc_df = alc_df.replace({'Russian Federation' : 'Russia', 'Slovakia' : 'Slovak Republic',\n",
    "                         'Macedonia' : 'North Macedonia', 'DR Congo' : 'Democratic Republic of the Congo'})\n",
    "\n",
    "for location in uni_df.location:\n",
    "    if location not in alc_df.location.unique():\n",
    "        uni_df.drop(uni_df.loc[uni_df['location'] == location].index, inplace=True)\n",
    "\n",
    "for location in alc_df.location:\n",
    "    if location not in uni_df.location.unique():\n",
    "        alc_df.drop(alc_df.loc[alc_df['location'] == location].index, inplace=True)"
   ]
  },
  {
   "cell_type": "code",
   "execution_count": 4,
   "metadata": {},
   "outputs": [],
   "source": [
    "uni_sort = uni_df['location'].unique()\n",
    "uni_sort.sort()\n",
    "\n",
    "alc_sort = alc_df['location'].unique()\n",
    "alc_sort.sort()"
   ]
  },
  {
   "cell_type": "code",
   "execution_count": 5,
   "metadata": {},
   "outputs": [
    {
     "data": {
      "text/plain": [
       "True"
      ]
     },
     "execution_count": 5,
     "metadata": {},
     "output_type": "execute_result"
    }
   ],
   "source": [
    "(uni_sort == alc_sort).all()"
   ]
  },
  {
   "cell_type": "markdown",
   "metadata": {},
   "source": [
    "# Data Analysis & Results"
   ]
  },
  {
   "cell_type": "code",
   "execution_count": 6,
   "metadata": {},
   "outputs": [],
   "source": [
    "merge_df = uni_df.merge(alc_df, how='outer', on='location')"
   ]
  },
  {
   "cell_type": "code",
   "execution_count": 7,
   "metadata": {},
   "outputs": [],
   "source": [
    "merge_df = merge_df[['rank', 'institution', 'location', 'score',\n",
    "                     'beer_servings', 'spirit_servings', 'wine_servings', 'litres_alcohol']]"
   ]
  },
  {
   "cell_type": "code",
   "execution_count": 8,
   "metadata": {},
   "outputs": [
    {
     "data": {
      "text/html": [
       "<div>\n",
       "<style scoped>\n",
       "    .dataframe tbody tr th:only-of-type {\n",
       "        vertical-align: middle;\n",
       "    }\n",
       "\n",
       "    .dataframe tbody tr th {\n",
       "        vertical-align: top;\n",
       "    }\n",
       "\n",
       "    .dataframe thead th {\n",
       "        text-align: right;\n",
       "    }\n",
       "</style>\n",
       "<table border=\"1\" class=\"dataframe\">\n",
       "  <thead>\n",
       "    <tr style=\"text-align: right;\">\n",
       "      <th></th>\n",
       "      <th>rank</th>\n",
       "      <th>institution</th>\n",
       "      <th>location</th>\n",
       "      <th>score</th>\n",
       "      <th>beer_servings</th>\n",
       "      <th>spirit_servings</th>\n",
       "      <th>wine_servings</th>\n",
       "      <th>litres_alcohol</th>\n",
       "    </tr>\n",
       "  </thead>\n",
       "  <tbody>\n",
       "    <tr>\n",
       "      <th>0</th>\n",
       "      <td>1</td>\n",
       "      <td>Harvard University</td>\n",
       "      <td>USA</td>\n",
       "      <td>100.0</td>\n",
       "      <td>249</td>\n",
       "      <td>158</td>\n",
       "      <td>84</td>\n",
       "      <td>8.7</td>\n",
       "    </tr>\n",
       "    <tr>\n",
       "      <th>1</th>\n",
       "      <td>2</td>\n",
       "      <td>Massachusetts Institute of Technology</td>\n",
       "      <td>USA</td>\n",
       "      <td>96.7</td>\n",
       "      <td>249</td>\n",
       "      <td>158</td>\n",
       "      <td>84</td>\n",
       "      <td>8.7</td>\n",
       "    </tr>\n",
       "    <tr>\n",
       "      <th>2</th>\n",
       "      <td>3</td>\n",
       "      <td>Stanford University</td>\n",
       "      <td>USA</td>\n",
       "      <td>95.2</td>\n",
       "      <td>249</td>\n",
       "      <td>158</td>\n",
       "      <td>84</td>\n",
       "      <td>8.7</td>\n",
       "    </tr>\n",
       "    <tr>\n",
       "      <th>3</th>\n",
       "      <td>6</td>\n",
       "      <td>Columbia University</td>\n",
       "      <td>USA</td>\n",
       "      <td>92.6</td>\n",
       "      <td>249</td>\n",
       "      <td>158</td>\n",
       "      <td>84</td>\n",
       "      <td>8.7</td>\n",
       "    </tr>\n",
       "    <tr>\n",
       "      <th>4</th>\n",
       "      <td>7</td>\n",
       "      <td>Princeton University</td>\n",
       "      <td>USA</td>\n",
       "      <td>92.0</td>\n",
       "      <td>249</td>\n",
       "      <td>158</td>\n",
       "      <td>84</td>\n",
       "      <td>8.7</td>\n",
       "    </tr>\n",
       "    <tr>\n",
       "      <th>...</th>\n",
       "      <td>...</td>\n",
       "      <td>...</td>\n",
       "      <td>...</td>\n",
       "      <td>...</td>\n",
       "      <td>...</td>\n",
       "      <td>...</td>\n",
       "      <td>...</td>\n",
       "      <td>...</td>\n",
       "    </tr>\n",
       "    <tr>\n",
       "      <th>1942</th>\n",
       "      <td>1805</td>\n",
       "      <td>Eduardo Mondlane University</td>\n",
       "      <td>Mozambique</td>\n",
       "      <td>66.5</td>\n",
       "      <td>47</td>\n",
       "      <td>18</td>\n",
       "      <td>5</td>\n",
       "      <td>1.3</td>\n",
       "    </tr>\n",
       "    <tr>\n",
       "      <th>1943</th>\n",
       "      <td>1816</td>\n",
       "      <td>Ss. Cyril and Methodius University in Skopje</td>\n",
       "      <td>North Macedonia</td>\n",
       "      <td>66.5</td>\n",
       "      <td>106</td>\n",
       "      <td>27</td>\n",
       "      <td>86</td>\n",
       "      <td>3.9</td>\n",
       "    </tr>\n",
       "    <tr>\n",
       "      <th>1944</th>\n",
       "      <td>1886</td>\n",
       "      <td>University of Kinshasa</td>\n",
       "      <td>Democratic Republic of the Congo</td>\n",
       "      <td>66.2</td>\n",
       "      <td>32</td>\n",
       "      <td>3</td>\n",
       "      <td>1</td>\n",
       "      <td>2.3</td>\n",
       "    </tr>\n",
       "    <tr>\n",
       "      <th>1945</th>\n",
       "      <td>1930</td>\n",
       "      <td>Yerevan State University</td>\n",
       "      <td>Armenia</td>\n",
       "      <td>66.1</td>\n",
       "      <td>21</td>\n",
       "      <td>179</td>\n",
       "      <td>11</td>\n",
       "      <td>3.8</td>\n",
       "    </tr>\n",
       "    <tr>\n",
       "      <th>1946</th>\n",
       "      <td>1946</td>\n",
       "      <td>University of Havana</td>\n",
       "      <td>Cuba</td>\n",
       "      <td>66.0</td>\n",
       "      <td>93</td>\n",
       "      <td>137</td>\n",
       "      <td>5</td>\n",
       "      <td>4.2</td>\n",
       "    </tr>\n",
       "  </tbody>\n",
       "</table>\n",
       "<p>1947 rows × 8 columns</p>\n",
       "</div>"
      ],
      "text/plain": [
       "      rank                                   institution  \\\n",
       "0        1                            Harvard University   \n",
       "1        2         Massachusetts Institute of Technology   \n",
       "2        3                           Stanford University   \n",
       "3        6                           Columbia University   \n",
       "4        7                          Princeton University   \n",
       "...    ...                                           ...   \n",
       "1942  1805                   Eduardo Mondlane University   \n",
       "1943  1816  Ss. Cyril and Methodius University in Skopje   \n",
       "1944  1886                        University of Kinshasa   \n",
       "1945  1930                      Yerevan State University   \n",
       "1946  1946                          University of Havana   \n",
       "\n",
       "                              location  score  beer_servings  spirit_servings  \\\n",
       "0                                  USA  100.0            249              158   \n",
       "1                                  USA   96.7            249              158   \n",
       "2                                  USA   95.2            249              158   \n",
       "3                                  USA   92.6            249              158   \n",
       "4                                  USA   92.0            249              158   \n",
       "...                                ...    ...            ...              ...   \n",
       "1942                        Mozambique   66.5             47               18   \n",
       "1943                   North Macedonia   66.5            106               27   \n",
       "1944  Democratic Republic of the Congo   66.2             32                3   \n",
       "1945                           Armenia   66.1             21              179   \n",
       "1946                              Cuba   66.0             93              137   \n",
       "\n",
       "      wine_servings  litres_alcohol  \n",
       "0                84             8.7  \n",
       "1                84             8.7  \n",
       "2                84             8.7  \n",
       "3                84             8.7  \n",
       "4                84             8.7  \n",
       "...             ...             ...  \n",
       "1942              5             1.3  \n",
       "1943             86             3.9  \n",
       "1944              1             2.3  \n",
       "1945             11             3.8  \n",
       "1946              5             4.2  \n",
       "\n",
       "[1947 rows x 8 columns]"
      ]
     },
     "execution_count": 8,
     "metadata": {},
     "output_type": "execute_result"
    }
   ],
   "source": [
    "merge_df"
   ]
  },
  {
   "cell_type": "code",
   "execution_count": 9,
   "metadata": {},
   "outputs": [
    {
     "data": {
      "text/plain": [
       "(1947, 8)"
      ]
     },
     "execution_count": 9,
     "metadata": {},
     "output_type": "execute_result"
    }
   ],
   "source": [
    "merge_df.shape"
   ]
  },
  {
   "cell_type": "code",
   "execution_count": 10,
   "metadata": {},
   "outputs": [
    {
     "data": {
      "text/plain": [
       "rank                 int64\n",
       "institution         object\n",
       "location            object\n",
       "score              float64\n",
       "beer_servings        int64\n",
       "spirit_servings      int64\n",
       "wine_servings        int64\n",
       "litres_alcohol     float64\n",
       "dtype: object"
      ]
     },
     "execution_count": 10,
     "metadata": {},
     "output_type": "execute_result"
    }
   ],
   "source": [
    "merge_df.dtypes"
   ]
  },
  {
   "cell_type": "markdown",
   "metadata": {},
   "source": [
    "### Structure \n",
    "There are 1947 observations and 8 variables in the data set. Most of the variables are floats and integers, only location and institutions are strings."
   ]
  },
  {
   "cell_type": "code",
   "execution_count": 11,
   "metadata": {
    "scrolled": true
   },
   "outputs": [
    {
     "data": {
      "text/plain": [
       "rank               False\n",
       "institution        False\n",
       "location           False\n",
       "score              False\n",
       "beer_servings      False\n",
       "spirit_servings    False\n",
       "wine_servings      False\n",
       "litres_alcohol     False\n",
       "dtype: bool"
      ]
     },
     "execution_count": 11,
     "metadata": {},
     "output_type": "execute_result"
    }
   ],
   "source": [
    "merge_df.isna().any()"
   ]
  },
  {
   "cell_type": "markdown",
   "metadata": {},
   "source": [
    "### Missing data\n",
    "There is no missing data in our data set.\n",
    "### Granularity\n",
    "Each row is a single observation of an institution, where the variables rank, institution, location, and score are on individual levels. The other variables beer_servings, spirit_servings, wine_servings, and litres_alcohol are on group level of the consumption of alcohol of the average of the country which is corresponding to the location variable.\n",
    "### Scope\n",
    "Most of the data in this data set directly help us to answer the question. Since we have a focus on each country, the institution variable is not necessary.\n",
    "### Temporality\n",
    "We take data from two data sets. The alcohol consumption data is from 2010, and the university ranking data is from 2019. Since we are looking at the average reputation of universities of each country and the scores are about the same every year without big changes, so the university ranking data is also valuable to use with the alcohol consumption data from 2010.\n",
    "### Faithfulness\n",
    "The alcohol consumption data is from World Health Organisation, Global Information System on Alcohol and Health (GISAH), 2010, so the data are approved by authorities and should be trustworthy. The university ranking data is from the Center for World University Rankings (CWUR) which is also a publicly recognized organization so the data is also trustworthy."
   ]
  },
  {
   "cell_type": "code",
   "execution_count": 12,
   "metadata": {},
   "outputs": [
    {
     "data": {
      "text/plain": [
       "<seaborn.axisgrid.FacetGrid at 0x7f022cacc510>"
      ]
     },
     "execution_count": 12,
     "metadata": {},
     "output_type": "execute_result"
    },
    {
     "data": {
      "image/png": "[encoded data removed]",
      "text/plain": [
       "<Figure size 360x360 with 1 Axes>"
      ]
     },
     "metadata": {
      "needs_background": "light"
     },
     "output_type": "display_data"
    }
   ],
   "source": [
    "sns.lmplot(x='beer_servings', y='score', data=merge_df)"
   ]
  },
  {
   "cell_type": "code",
   "execution_count": 13,
   "metadata": {},
   "outputs": [
    {
     "data": {
      "text/plain": [
       "<seaborn.axisgrid.FacetGrid at 0x7f022cacccd0>"
      ]
     },
     "execution_count": 13,
     "metadata": {},
     "output_type": "execute_result"
    },
    {
     "data": {
      "image/png": "[encoded data removed]",
      "text/plain": [
       "<Figure size 360x360 with 1 Axes>"
      ]
     },
     "metadata": {
      "needs_background": "light"
     },
     "output_type": "display_data"
    }
   ],
   "source": [
    "sns.lmplot(x='spirit_servings', y='score', data=merge_df)"
   ]
  },
  {
   "cell_type": "code",
   "execution_count": 14,
   "metadata": {},
   "outputs": [
    {
     "data": {
      "text/plain": [
       "<seaborn.axisgrid.FacetGrid at 0x7f022c941910>"
      ]
     },
     "execution_count": 14,
     "metadata": {},
     "output_type": "execute_result"
    },
    {
     "data": {
      "image/png": "[encoded data removed]",
      "text/plain": [
       "<Figure size 360x360 with 1 Axes>"
      ]
     },
     "metadata": {
      "needs_background": "light"
     },
     "output_type": "display_data"
    }
   ],
   "source": [
    "sns.lmplot(x='wine_servings', y='score', data=merge_df)"
   ]
  },
  {
   "cell_type": "code",
   "execution_count": 15,
   "metadata": {},
   "outputs": [
    {
     "data": {
      "text/plain": [
       "<seaborn.axisgrid.FacetGrid at 0x7f022c8c3850>"
      ]
     },
     "execution_count": 15,
     "metadata": {},
     "output_type": "execute_result"
    },
    {
     "data": {
      "image/png": "[encoded data removed]",
      "text/plain": [
       "<Figure size 360x360 with 1 Axes>"
      ]
     },
     "metadata": {
      "needs_background": "light"
     },
     "output_type": "display_data"
    }
   ],
   "source": [
    "sns.lmplot(x='litres_alcohol', y='score', data=merge_df)"
   ]
  },
  {
   "cell_type": "markdown",
   "metadata": {},
   "source": [
    "### Relationship between variables\n",
    "We can see that there is a positive relationship between scores and the other four variables to describe alcohol consumption, beer_servings, spirit_servings, wine_servings, and litres_alcohol"
   ]
  },
  {
   "cell_type": "code",
   "execution_count": 16,
   "metadata": {},
   "outputs": [
    {
     "data": {
      "text/plain": [
       "<matplotlib.axes._subplots.AxesSubplot at 0x7f022c8a2bd0>"
      ]
     },
     "execution_count": 16,
     "metadata": {},
     "output_type": "execute_result"
    },
    {
     "data": {
      "image/png": "[encoded data removed]",
      "text/plain": [
       "<Figure size 432x288 with 1 Axes>"
      ]
     },
     "metadata": {
      "needs_background": "light"
     },
     "output_type": "display_data"
    }
   ],
   "source": [
    "merge_df['location'].value_counts()[:40].plot(kind='bar')"
   ]
  },
  {
   "cell_type": "markdown",
   "metadata": {},
   "source": [
    "We can also see from the above graph there are many institutions in the USA, China, Japan, France, and the UK. Other countries only have a few institutions, so there are less data to contribute to the reputation of the universities in those countries."
   ]
  },
  {
   "cell_type": "code",
   "execution_count": 17,
   "metadata": {},
   "outputs": [
    {
     "data": {
      "text/html": [
       "<div>\n",
       "<style scoped>\n",
       "    .dataframe tbody tr th:only-of-type {\n",
       "        vertical-align: middle;\n",
       "    }\n",
       "\n",
       "    .dataframe tbody tr th {\n",
       "        vertical-align: top;\n",
       "    }\n",
       "\n",
       "    .dataframe thead th {\n",
       "        text-align: right;\n",
       "    }\n",
       "</style>\n",
       "<table border=\"1\" class=\"dataframe\">\n",
       "  <thead>\n",
       "    <tr style=\"text-align: right;\">\n",
       "      <th></th>\n",
       "      <th>rank</th>\n",
       "      <th>score</th>\n",
       "      <th>beer_servings</th>\n",
       "      <th>spirit_servings</th>\n",
       "      <th>wine_servings</th>\n",
       "      <th>litres_alcohol</th>\n",
       "    </tr>\n",
       "  </thead>\n",
       "  <tbody>\n",
       "    <tr>\n",
       "      <th>count</th>\n",
       "      <td>1947.000000</td>\n",
       "      <td>1947.000000</td>\n",
       "      <td>1947.000000</td>\n",
       "      <td>1947.000000</td>\n",
       "      <td>1947.000000</td>\n",
       "      <td>1947.000000</td>\n",
       "    </tr>\n",
       "    <tr>\n",
       "      <th>mean</th>\n",
       "      <td>998.770930</td>\n",
       "      <td>71.658860</td>\n",
       "      <td>168.241911</td>\n",
       "      <td>129.255265</td>\n",
       "      <td>96.251156</td>\n",
       "      <td>7.485362</td>\n",
       "    </tr>\n",
       "    <tr>\n",
       "      <th>std</th>\n",
       "      <td>578.486548</td>\n",
       "      <td>5.093907</td>\n",
       "      <td>99.796775</td>\n",
       "      <td>66.289347</td>\n",
       "      <td>101.118107</td>\n",
       "      <td>3.218063</td>\n",
       "    </tr>\n",
       "    <tr>\n",
       "      <th>min</th>\n",
       "      <td>1.000000</td>\n",
       "      <td>65.800000</td>\n",
       "      <td>0.000000</td>\n",
       "      <td>0.000000</td>\n",
       "      <td>0.000000</td>\n",
       "      <td>0.000000</td>\n",
       "    </tr>\n",
       "    <tr>\n",
       "      <th>25%</th>\n",
       "      <td>497.000000</td>\n",
       "      <td>67.700000</td>\n",
       "      <td>79.000000</td>\n",
       "      <td>76.000000</td>\n",
       "      <td>8.000000</td>\n",
       "      <td>5.000000</td>\n",
       "    </tr>\n",
       "    <tr>\n",
       "      <th>50%</th>\n",
       "      <td>995.000000</td>\n",
       "      <td>70.300000</td>\n",
       "      <td>185.000000</td>\n",
       "      <td>151.000000</td>\n",
       "      <td>84.000000</td>\n",
       "      <td>8.700000</td>\n",
       "    </tr>\n",
       "    <tr>\n",
       "      <th>75%</th>\n",
       "      <td>1500.500000</td>\n",
       "      <td>74.200000</td>\n",
       "      <td>249.000000</td>\n",
       "      <td>170.000000</td>\n",
       "      <td>175.000000</td>\n",
       "      <td>10.000000</td>\n",
       "    </tr>\n",
       "    <tr>\n",
       "      <th>max</th>\n",
       "      <td>2000.000000</td>\n",
       "      <td>100.000000</td>\n",
       "      <td>361.000000</td>\n",
       "      <td>373.000000</td>\n",
       "      <td>370.000000</td>\n",
       "      <td>14.400000</td>\n",
       "    </tr>\n",
       "  </tbody>\n",
       "</table>\n",
       "</div>"
      ],
      "text/plain": [
       "              rank        score  beer_servings  spirit_servings  \\\n",
       "count  1947.000000  1947.000000    1947.000000      1947.000000   \n",
       "mean    998.770930    71.658860     168.241911       129.255265   \n",
       "std     578.486548     5.093907      99.796775        66.289347   \n",
       "min       1.000000    65.800000       0.000000         0.000000   \n",
       "25%     497.000000    67.700000      79.000000        76.000000   \n",
       "50%     995.000000    70.300000     185.000000       151.000000   \n",
       "75%    1500.500000    74.200000     249.000000       170.000000   \n",
       "max    2000.000000   100.000000     361.000000       373.000000   \n",
       "\n",
       "       wine_servings  litres_alcohol  \n",
       "count    1947.000000     1947.000000  \n",
       "mean       96.251156        7.485362  \n",
       "std       101.118107        3.218063  \n",
       "min         0.000000        0.000000  \n",
       "25%         8.000000        5.000000  \n",
       "50%        84.000000        8.700000  \n",
       "75%       175.000000       10.000000  \n",
       "max       370.000000       14.400000  "
      ]
     },
     "execution_count": 17,
     "metadata": {},
     "output_type": "execute_result"
    }
   ],
   "source": [
    "merge_df.describe()"
   ]
  },
  {
   "cell_type": "markdown",
   "metadata": {},
   "source": [
    "Based on the described stats of each variable, there do not seem to be any clear outliers or unexpected values."
   ]
  },
  {
   "cell_type": "markdown",
   "metadata": {},
   "source": [
    "Linear regression analysis\n",
    "\n",
    "To see the relationship between the rate of alcohol consumption among citizens within a country and the reputation of that country's universities, we will first find the average college reputation of each country."
   ]
  },
  {
   "cell_type": "code",
   "execution_count": 18,
   "metadata": {},
   "outputs": [
    {
     "data": {
      "text/html": [
       "<div>\n",
       "<style scoped>\n",
       "    .dataframe tbody tr th:only-of-type {\n",
       "        vertical-align: middle;\n",
       "    }\n",
       "\n",
       "    .dataframe tbody tr th {\n",
       "        vertical-align: top;\n",
       "    }\n",
       "\n",
       "    .dataframe thead th {\n",
       "        text-align: right;\n",
       "    }\n",
       "</style>\n",
       "<table border=\"1\" class=\"dataframe\">\n",
       "  <thead>\n",
       "    <tr style=\"text-align: right;\">\n",
       "      <th></th>\n",
       "      <th>rank</th>\n",
       "      <th>institution</th>\n",
       "      <th>location</th>\n",
       "      <th>score</th>\n",
       "      <th>beer_servings</th>\n",
       "      <th>spirit_servings</th>\n",
       "      <th>wine_servings</th>\n",
       "      <th>litres_alcohol</th>\n",
       "    </tr>\n",
       "  </thead>\n",
       "  <tbody>\n",
       "    <tr>\n",
       "      <th>0</th>\n",
       "      <td>1</td>\n",
       "      <td>Harvard University</td>\n",
       "      <td>USA</td>\n",
       "      <td>100.0</td>\n",
       "      <td>249</td>\n",
       "      <td>158</td>\n",
       "      <td>84</td>\n",
       "      <td>8.7</td>\n",
       "    </tr>\n",
       "    <tr>\n",
       "      <th>1</th>\n",
       "      <td>2</td>\n",
       "      <td>Massachusetts Institute of Technology</td>\n",
       "      <td>USA</td>\n",
       "      <td>96.7</td>\n",
       "      <td>249</td>\n",
       "      <td>158</td>\n",
       "      <td>84</td>\n",
       "      <td>8.7</td>\n",
       "    </tr>\n",
       "    <tr>\n",
       "      <th>2</th>\n",
       "      <td>3</td>\n",
       "      <td>Stanford University</td>\n",
       "      <td>USA</td>\n",
       "      <td>95.2</td>\n",
       "      <td>249</td>\n",
       "      <td>158</td>\n",
       "      <td>84</td>\n",
       "      <td>8.7</td>\n",
       "    </tr>\n",
       "    <tr>\n",
       "      <th>3</th>\n",
       "      <td>6</td>\n",
       "      <td>Columbia University</td>\n",
       "      <td>USA</td>\n",
       "      <td>92.6</td>\n",
       "      <td>249</td>\n",
       "      <td>158</td>\n",
       "      <td>84</td>\n",
       "      <td>8.7</td>\n",
       "    </tr>\n",
       "    <tr>\n",
       "      <th>4</th>\n",
       "      <td>7</td>\n",
       "      <td>Princeton University</td>\n",
       "      <td>USA</td>\n",
       "      <td>92.0</td>\n",
       "      <td>249</td>\n",
       "      <td>158</td>\n",
       "      <td>84</td>\n",
       "      <td>8.7</td>\n",
       "    </tr>\n",
       "  </tbody>\n",
       "</table>\n",
       "</div>"
      ],
      "text/plain": [
       "   rank                            institution location  score  beer_servings  \\\n",
       "0     1                     Harvard University      USA  100.0            249   \n",
       "1     2  Massachusetts Institute of Technology      USA   96.7            249   \n",
       "2     3                    Stanford University      USA   95.2            249   \n",
       "3     6                    Columbia University      USA   92.6            249   \n",
       "4     7                   Princeton University      USA   92.0            249   \n",
       "\n",
       "   spirit_servings  wine_servings  litres_alcohol  \n",
       "0              158             84             8.7  \n",
       "1              158             84             8.7  \n",
       "2              158             84             8.7  \n",
       "3              158             84             8.7  \n",
       "4              158             84             8.7  "
      ]
     },
     "execution_count": 18,
     "metadata": {},
     "output_type": "execute_result"
    }
   ],
   "source": [
    "merge_df.head()"
   ]
  },
  {
   "cell_type": "code",
   "execution_count": 19,
   "metadata": {},
   "outputs": [],
   "source": [
    "avg_score = list(merge_df.groupby(by='location')['score'].mean())\n",
    "final_df = pd.DataFrame(uni_sort, columns=['location'])\n",
    "final_df['avg_score'] = avg_score\n",
    "final_df['beer_servings'] = list(alc_df['beer_servings'])\n",
    "final_df['spirit_servings'] = list(alc_df['spirit_servings'])\n",
    "final_df['wine_servings'] = list(alc_df['wine_servings'])\n",
    "final_df['litres_alcohol'] = list(alc_df['litres_alcohol'])"
   ]
  },
  {
   "cell_type": "markdown",
   "metadata": {},
   "source": [
    "We calculated the average score of the reputation of the colleges of each country and it is at the avg_score column. We also created a new dataframe called final_df that only contains the information we need to do the analysis."
   ]
  },
  {
   "cell_type": "code",
   "execution_count": 20,
   "metadata": {},
   "outputs": [
    {
     "data": {
      "text/plain": [
       "array([-780.91987958,   13.14016764])"
      ]
     },
     "execution_count": 20,
     "metadata": {},
     "output_type": "execute_result"
    }
   ],
   "source": [
    "## Analysis for beer\n",
    "\n",
    "#get the variable that we are going to use for regression\n",
    "Y = final_df['beer_servings'].values\n",
    "X = final_df['avg_score'].values\n",
    "#There are 94 countries so we are going to use \n",
    "\n",
    "train_Y = final_df['beer_servings'].values\n",
    "train_X = final_df['avg_score'].values\n",
    "ones = np.ones(94, dtype=np.int16).reshape(94,1)\n",
    "\n",
    "train_X_A = train_X.reshape(94,1)\n",
    "\n",
    "A = np.append(ones, train_X_A, 1)\n",
    "\n",
    "vector = np.linalg.lstsq(A,train_Y, rcond=None)[0]\n",
    "vector"
   ]
  },
  {
   "cell_type": "code",
   "execution_count": 21,
   "metadata": {},
   "outputs": [
    {
     "name": "stdout",
     "output_type": "stream",
     "text": [
      "beer_servings = w0 + w1 x avg_score\n",
      "beer_servings = -780.91987958 + 13.14016764 x avg_score\n"
     ]
    }
   ],
   "source": [
    "print(\"beer_servings = w0 + w1 x avg_score\")\n",
    "print(\"beer_servings = -780.91987958 + 13.14016764 x avg_score\")"
   ]
  },
  {
   "cell_type": "code",
   "execution_count": 22,
   "metadata": {},
   "outputs": [
    {
     "data": {
      "text/plain": [
       "Text(0.5, 1.0, 'Prediction of beer serving based on reputation of colleges')"
      ]
     },
     "execution_count": 22,
     "metadata": {},
     "output_type": "execute_result"
    },
    {
     "data": {
      "image/png": "[encoded data removed]",
      "text/plain": [
       "<Figure size 432x288 with 1 Axes>"
      ]
     },
     "metadata": {
      "needs_background": "light"
     },
     "output_type": "display_data"
    }
   ],
   "source": [
    "ax = plt.axes()\n",
    "reputation = 60 + np.arange(30)\n",
    "predict_consumption = -543.71754552 + 9.8201046*reputation\n",
    "ax.scatter(X, Y)\n",
    "ax.plot(reputation, predict_consumption)\n",
    "ax.set_ylabel('beer serving')\n",
    "ax.set_xlabel('reputation')\n",
    "ax.set_title('Prediction of beer serving based on reputation of colleges')"
   ]
  },
  {
   "cell_type": "code",
   "execution_count": 23,
   "metadata": {},
   "outputs": [
    {
     "name": "stdout",
     "output_type": "stream",
     "text": [
      "                            OLS Regression Results                            \n",
      "==============================================================================\n",
      "Dep. Variable:          beer_servings   R-squared:                       0.108\n",
      "Model:                            OLS   Adj. R-squared:                  0.098\n",
      "Method:                 Least Squares   F-statistic:                     11.13\n",
      "Date:                Wed, 17 Mar 2021   Prob (F-statistic):            0.00123\n",
      "Time:                        17:56:07   Log-Likelihood:                -567.48\n",
      "No. Observations:                  94   AIC:                             1139.\n",
      "Df Residuals:                      92   BIC:                             1144.\n",
      "Df Model:                           1                                         \n",
      "Covariance Type:            nonrobust                                         \n",
      "==============================================================================\n",
      "                 coef    std err          t      P>|t|      [0.025      0.975]\n",
      "------------------------------------------------------------------------------\n",
      "Intercept   -780.9199    275.741     -2.832      0.006   -1328.566    -233.274\n",
      "avg_score     13.1402      3.939      3.336      0.001       5.317      20.963\n",
      "==============================================================================\n",
      "Omnibus:                        6.906   Durbin-Watson:                   2.266\n",
      "Prob(Omnibus):                  0.032   Jarque-Bera (JB):                4.322\n",
      "Skew:                           0.356   Prob(JB):                        0.115\n",
      "Kurtosis:                       2.227   Cond. No.                     1.83e+03\n",
      "==============================================================================\n",
      "\n",
      "Warnings:\n",
      "[1] Standard Errors assume that the covariance matrix of the errors is correctly specified.\n",
      "[2] The condition number is large, 1.83e+03. This might indicate that there are\n",
      "strong multicollinearity or other numerical problems.\n"
     ]
    }
   ],
   "source": [
    "outcome_1, predictors_1 = patsy.dmatrices('beer_servings ~ avg_score', final_df)\n",
    "mod_1 = sm.OLS(outcome_1, predictors_1)\n",
    "res_1 = mod_1.fit()\n",
    "print(res_1.summary())"
   ]
  },
  {
   "cell_type": "markdown",
   "metadata": {},
   "source": [
    "For the analysis for beer serving, the result seems to be significant because the p value for avg_score is 0.001 which is less than .05 which is the alpha value we set. By looking at the data visualization created, the original data points are plotted as a scatter plot. The model that we trained is presented as a regression line. As we can see from the result, there is a positive relationship between beer consumption and the average reputation of colleges of a country."
   ]
  },
  {
   "cell_type": "code",
   "execution_count": 24,
   "metadata": {},
   "outputs": [
    {
     "data": {
      "text/plain": [
       "array([-365.38253352,    6.53278285])"
      ]
     },
     "execution_count": 24,
     "metadata": {},
     "output_type": "execute_result"
    }
   ],
   "source": [
    "## Analysis for spirit\n",
    "\n",
    "#get the variable that we are going to use for regression\n",
    "Y = final_df['spirit_servings'].values\n",
    "X = final_df['avg_score'].values\n",
    "#There are 94 countries so we are going to use \n",
    "\n",
    "train_Y = final_df['spirit_servings'].values\n",
    "train_X = final_df['avg_score'].values\n",
    "ones = np.ones(94, dtype=np.int16).reshape(94,1)\n",
    "\n",
    "train_X_A = train_X.reshape(94,1)\n",
    "\n",
    "A = np.append(ones, train_X_A, 1)\n",
    "\n",
    "vector = np.linalg.lstsq(A,train_Y, rcond=None)[0]\n",
    "vector"
   ]
  },
  {
   "cell_type": "code",
   "execution_count": 25,
   "metadata": {},
   "outputs": [
    {
     "name": "stdout",
     "output_type": "stream",
     "text": [
      "spirit_servings = w0 + w1 x avg_score\n",
      "spirit_servings = -365.38253352 + 6.53278285 x avg_score\n"
     ]
    }
   ],
   "source": [
    "print(\"spirit_servings = w0 + w1 x avg_score\")\n",
    "print(\"spirit_servings = -365.38253352 + 6.53278285 x avg_score\")"
   ]
  },
  {
   "cell_type": "code",
   "execution_count": 26,
   "metadata": {},
   "outputs": [
    {
     "data": {
      "text/plain": [
       "Text(0.5, 1.0, 'Prediction of spirit servings based on reputation of colleges')"
      ]
     },
     "execution_count": 26,
     "metadata": {},
     "output_type": "execute_result"
    },
    {
     "data": {
      "image/png": "[encoded data removed]",
      "text/plain": [
       "<Figure size 432x288 with 1 Axes>"
      ]
     },
     "metadata": {
      "needs_background": "light"
     },
     "output_type": "display_data"
    }
   ],
   "source": [
    "ax = plt.axes()\n",
    "reputation = 60 + np.arange(30)\n",
    "x_axis = np.arange(350)\n",
    "y_axis = np.arange(100)\n",
    "predict_consumption = -365.38253352 + 6.53278285*reputation\n",
    "ax.scatter(X, Y)\n",
    "ax.plot(reputation, predict_consumption)\n",
    "ax.set_ylabel('spirit_servings')\n",
    "ax.set_xlabel('reputation')\n",
    "ax.set_title('Prediction of spirit servings based on reputation of colleges')"
   ]
  },
  {
   "cell_type": "code",
   "execution_count": 27,
   "metadata": {},
   "outputs": [
    {
     "name": "stdout",
     "output_type": "stream",
     "text": [
      "                            OLS Regression Results                            \n",
      "==============================================================================\n",
      "Dep. Variable:        spirit_servings   R-squared:                       0.044\n",
      "Model:                            OLS   Adj. R-squared:                  0.034\n",
      "Method:                 Least Squares   F-statistic:                     4.262\n",
      "Date:                Wed, 17 Mar 2021   Prob (F-statistic):             0.0418\n",
      "Time:                        17:56:08   Log-Likelihood:                -546.90\n",
      "No. Observations:                  94   AIC:                             1098.\n",
      "Df Residuals:                      92   BIC:                             1103.\n",
      "Df Model:                           1                                         \n",
      "Covariance Type:            nonrobust                                         \n",
      "==============================================================================\n",
      "                 coef    std err          t      P>|t|      [0.025      0.975]\n",
      "------------------------------------------------------------------------------\n",
      "Intercept   -365.3825    221.524     -1.649      0.102    -805.349      74.584\n",
      "avg_score      6.5328      3.164      2.064      0.042       0.248      12.818\n",
      "==============================================================================\n",
      "Omnibus:                       17.166   Durbin-Watson:                   2.195\n",
      "Prob(Omnibus):                  0.000   Jarque-Bera (JB):               19.935\n",
      "Skew:                           1.069   Prob(JB):                     4.69e-05\n",
      "Kurtosis:                       3.720   Cond. No.                     1.83e+03\n",
      "==============================================================================\n",
      "\n",
      "Warnings:\n",
      "[1] Standard Errors assume that the covariance matrix of the errors is correctly specified.\n",
      "[2] The condition number is large, 1.83e+03. This might indicate that there are\n",
      "strong multicollinearity or other numerical problems.\n"
     ]
    }
   ],
   "source": [
    "outcome_1, predictors_1 = patsy.dmatrices('spirit_servings ~ avg_score', final_df)\n",
    "mod_1 = sm.OLS(outcome_1, predictors_1)\n",
    "res_1 = mod_1.fit()\n",
    "print(res_1.summary())"
   ]
  },
  {
   "cell_type": "markdown",
   "metadata": {},
   "source": [
    "For the analysis for spirit serving, the result seems to be significant because the p value for avg_score is 0.042 which is less than .05 which is the alpha value we set. By looking at the data visualization created, the original data points are plotted as a scatter plot. The model that we trained is presented as a regression line. As we can see from the result, there is a positive relationship between spirit consumption and the average reputation of colleges of a country."
   ]
  },
  {
   "cell_type": "code",
   "execution_count": 28,
   "metadata": {},
   "outputs": [
    {
     "data": {
      "text/plain": [
       "array([-839.89562489,   13.14407908])"
      ]
     },
     "execution_count": 28,
     "metadata": {},
     "output_type": "execute_result"
    }
   ],
   "source": [
    "## Analysis for wine\n",
    "\n",
    "#get the variable that we are going to use for regression\n",
    "Y = final_df['wine_servings'].values\n",
    "X = final_df['avg_score'].values\n",
    "#There are 94 countries so we are going to use \n",
    "\n",
    "train_Y = final_df['wine_servings'].values\n",
    "train_X = final_df['avg_score'].values\n",
    "ones = np.ones(94, dtype=np.int16).reshape(94,1)\n",
    "\n",
    "train_X_A = train_X.reshape(94,1)\n",
    "\n",
    "A = np.append(ones, train_X_A, 1)\n",
    "\n",
    "vector = np.linalg.lstsq(A,train_Y, rcond=None)[0]\n",
    "vector"
   ]
  },
  {
   "cell_type": "code",
   "execution_count": 29,
   "metadata": {},
   "outputs": [
    {
     "name": "stdout",
     "output_type": "stream",
     "text": [
      "wine_servings = w0 + w1 x avg_score\n",
      "wine_servings = -839.89562489 + 13.14407908 x avg_score\n"
     ]
    }
   ],
   "source": [
    "print(\"wine_servings = w0 + w1 x avg_score\")\n",
    "print(\"wine_servings = -839.89562489 + 13.14407908 x avg_score\")"
   ]
  },
  {
   "cell_type": "code",
   "execution_count": 30,
   "metadata": {},
   "outputs": [
    {
     "data": {
      "text/plain": [
       "Text(0.5, 1.0, 'Prediction of wine_servings based on reputation of colleges')"
      ]
     },
     "execution_count": 30,
     "metadata": {},
     "output_type": "execute_result"
    },
    {
     "data": {
      "image/png": "[encoded data removed]",
      "text/plain": [
       "<Figure size 432x288 with 1 Axes>"
      ]
     },
     "metadata": {
      "needs_background": "light"
     },
     "output_type": "display_data"
    }
   ],
   "source": [
    "ax = plt.axes()\n",
    "reputation = 60 + np.arange(30)\n",
    "x_axis = np.arange(350)\n",
    "y_axis = np.arange(100)\n",
    "predict_consumption = -365.38253352 + 6.53278285*reputation\n",
    "ax.scatter(X, Y)\n",
    "ax.plot(reputation, predict_consumption)\n",
    "ax.set_ylabel('wine_servings')\n",
    "ax.set_xlabel('reputation')\n",
    "ax.set_title('Prediction of wine_servings based on reputation of colleges')"
   ]
  },
  {
   "cell_type": "code",
   "execution_count": 31,
   "metadata": {},
   "outputs": [
    {
     "name": "stdout",
     "output_type": "stream",
     "text": [
      "                            OLS Regression Results                            \n",
      "==============================================================================\n",
      "Dep. Variable:          wine_servings   R-squared:                       0.137\n",
      "Model:                            OLS   Adj. R-squared:                  0.128\n",
      "Method:                 Least Squares   F-statistic:                     14.64\n",
      "Date:                Wed, 17 Mar 2021   Prob (F-statistic):           0.000237\n",
      "Time:                        17:56:08   Log-Likelihood:                -554.62\n",
      "No. Observations:                  94   AIC:                             1113.\n",
      "Df Residuals:                      92   BIC:                             1118.\n",
      "Df Model:                           1                                         \n",
      "Covariance Type:            nonrobust                                         \n",
      "==============================================================================\n",
      "                 coef    std err          t      P>|t|      [0.025      0.975]\n",
      "------------------------------------------------------------------------------\n",
      "Intercept   -839.8956    240.495     -3.492      0.001   -1317.540    -362.251\n",
      "avg_score     13.1441      3.435      3.826      0.000       6.321      19.967\n",
      "==============================================================================\n",
      "Omnibus:                       12.976   Durbin-Watson:                   2.292\n",
      "Prob(Omnibus):                  0.002   Jarque-Bera (JB):               14.019\n",
      "Skew:                           0.922   Prob(JB):                     0.000903\n",
      "Kurtosis:                       3.423   Cond. No.                     1.83e+03\n",
      "==============================================================================\n",
      "\n",
      "Warnings:\n",
      "[1] Standard Errors assume that the covariance matrix of the errors is correctly specified.\n",
      "[2] The condition number is large, 1.83e+03. This might indicate that there are\n",
      "strong multicollinearity or other numerical problems.\n"
     ]
    }
   ],
   "source": [
    "outcome_1, predictors_1 = patsy.dmatrices('wine_servings ~ avg_score', final_df)\n",
    "mod_1 = sm.OLS(outcome_1, predictors_1)\n",
    "res_1 = mod_1.fit()\n",
    "print(res_1.summary())"
   ]
  },
  {
   "cell_type": "markdown",
   "metadata": {},
   "source": [
    "For the analysis for wine serving, the result seems to be significant because the p value for avg_score is 0.0 (less than 0.0005) which is less than .05 which is the alpha value we set. By looking at the data visualization created, the original data points are plotted as a scatter plot. The model that we trained is presented as a regression line. As we can see from the result, there is a positive relationship between wine consumption and the average reputation of colleges of a country."
   ]
  },
  {
   "cell_type": "code",
   "execution_count": 32,
   "metadata": {},
   "outputs": [
    {
     "data": {
      "text/plain": [
       "array([-29.71937967,   0.51233688])"
      ]
     },
     "execution_count": 32,
     "metadata": {},
     "output_type": "execute_result"
    }
   ],
   "source": [
    "## Analysis for litres_alcohol\n",
    "\n",
    "#get the variable that we are going to use for regression\n",
    "Y = final_df['litres_alcohol'].values\n",
    "X = final_df['avg_score'].values\n",
    "#There are 94 countries so we are going to use \n",
    "\n",
    "train_Y = final_df['litres_alcohol'].values\n",
    "train_X = final_df['avg_score'].values\n",
    "ones = np.ones(94, dtype=np.int16).reshape(94,1)\n",
    "\n",
    "train_X_A = train_X.reshape(94,1)\n",
    "\n",
    "A = np.append(ones, train_X_A, 1)\n",
    "\n",
    "vector = np.linalg.lstsq(A,train_Y, rcond=None)[0]\n",
    "vector"
   ]
  },
  {
   "cell_type": "code",
   "execution_count": 33,
   "metadata": {},
   "outputs": [
    {
     "name": "stdout",
     "output_type": "stream",
     "text": [
      "litres_alcohol = w0 + w1 x avg_score\n",
      "litres_alcohol = -29.71937967 + 0.51233688 x avg_score\n"
     ]
    }
   ],
   "source": [
    "print(\"litres_alcohol = w0 + w1 x avg_score\")\n",
    "print(\"litres_alcohol = -29.71937967 + 0.51233688 x avg_score\")"
   ]
  },
  {
   "cell_type": "code",
   "execution_count": 34,
   "metadata": {},
   "outputs": [
    {
     "data": {
      "text/plain": [
       "Text(0.5, 1.0, 'Prediction of litres_alcohol based on reputation of colleges')"
      ]
     },
     "execution_count": 34,
     "metadata": {},
     "output_type": "execute_result"
    },
    {
     "data": {
      "image/png": "[encoded data removed]",
      "text/plain": [
       "<Figure size 432x288 with 1 Axes>"
      ]
     },
     "metadata": {
      "needs_background": "light"
     },
     "output_type": "display_data"
    }
   ],
   "source": [
    "ax = plt.axes()\n",
    "reputation = 60 + np.arange(30)\n",
    "predict_consumption = -29.71937967 + 0.51233688*reputation\n",
    "ax.scatter(X, Y)\n",
    "ax.plot(reputation, predict_consumption)\n",
    "ax.set_ylabel('litres_alcohol')\n",
    "ax.set_xlabel('reputation')\n",
    "ax.set_title('Prediction of litres_alcohol based on reputation of colleges')"
   ]
  },
  {
   "cell_type": "code",
   "execution_count": 35,
   "metadata": {},
   "outputs": [
    {
     "name": "stdout",
     "output_type": "stream",
     "text": [
      "                            OLS Regression Results                            \n",
      "==============================================================================\n",
      "Dep. Variable:         litres_alcohol   R-squared:                       0.115\n",
      "Model:                            OLS   Adj. R-squared:                  0.106\n",
      "Method:                 Least Squares   F-statistic:                     11.98\n",
      "Date:                Wed, 17 Mar 2021   Prob (F-statistic):           0.000817\n",
      "Time:                        17:56:08   Log-Likelihood:                -259.03\n",
      "No. Observations:                  94   AIC:                             522.1\n",
      "Df Residuals:                      92   BIC:                             527.1\n",
      "Df Model:                           1                                         \n",
      "Covariance Type:            nonrobust                                         \n",
      "==============================================================================\n",
      "                 coef    std err          t      P>|t|      [0.025      0.975]\n",
      "------------------------------------------------------------------------------\n",
      "Intercept    -29.7194     10.362     -2.868      0.005     -50.298      -9.140\n",
      "avg_score      0.5123      0.148      3.461      0.001       0.218       0.806\n",
      "==============================================================================\n",
      "Omnibus:                       14.444   Durbin-Watson:                   2.155\n",
      "Prob(Omnibus):                  0.001   Jarque-Bera (JB):                4.176\n",
      "Skew:                          -0.054   Prob(JB):                        0.124\n",
      "Kurtosis:                       1.973   Cond. No.                     1.83e+03\n",
      "==============================================================================\n",
      "\n",
      "Warnings:\n",
      "[1] Standard Errors assume that the covariance matrix of the errors is correctly specified.\n",
      "[2] The condition number is large, 1.83e+03. This might indicate that there are\n",
      "strong multicollinearity or other numerical problems.\n"
     ]
    }
   ],
   "source": [
    "outcome_1, predictors_1 = patsy.dmatrices('litres_alcohol ~ avg_score', final_df)\n",
    "mod_1 = sm.OLS(outcome_1, predictors_1)\n",
    "res_1 = mod_1.fit()\n",
    "print(res_1.summary())"
   ]
  },
  {
   "cell_type": "markdown",
   "metadata": {},
   "source": [
    "For the analysis for litres alcohol, the result seems to be significant because the p value for avg_score is 0.001 which is less than .05 which is the alpha value we set. By looking at the data visualization created, the original data points are plotted as a scatter plot. The model that we trained is presented as a regression line. As we can see from the result, there is a positive relationship between alcohol consumption in terms of liters and the average reputation of colleges of a country."
   ]
  },
  {
   "cell_type": "markdown",
   "metadata": {},
   "source": [
    "By looking at the linear regression for beer_servings, spirit_servings, wine_servings, and litres_alcohol, all of them show a positive relationship between alcohol consumption and the average reputation of colleges of a country. This means that in countries with more reputable colleges on average, the people of that country are more likely to consume alcoholic beverages. This rejected our hypothesis: higher education quality of a country should be negatively correlated with alcohol consumption. The analysis result shows that the higher education quality of a country should be directly proportional to alcohol consumption."
   ]
  },
  {
   "cell_type": "markdown",
   "metadata": {},
   "source": [
    "# Ethics & Privacy"
   ]
  },
  {
   "cell_type": "markdown",
   "metadata": {},
   "source": [
    "On privacy concerns, data must be collected under the consent of the interviewee or institution. During the process of the analysis, the identity of the interviewee should not be included or made anonymously. No other personal information should be used other than the data that are required for the research. On ethics concerns, the analysis should be objective. The data should be unbiased. The process of analysis should be made available to others for transparency. After finishing the research, monitoring the most updated information is required to modify our research in the future."
   ]
  },
  {
   "cell_type": "markdown",
   "metadata": {},
   "source": [
    "# Conclusion & Discussion"
   ]
  },
  {
   "cell_type": "markdown",
   "metadata": {},
   "source": [
    "Through the course of our project, we sought to find out how the rate of alcohol consumption correlates to the quality of university education throughout the world. Here in the US, drinking in college is prevalent among all kinds of students, especially those below the legal drinking age. College drinking culture has been normalized in the US for many years, so we were interested in investigating how the US compares to other countries in quality of education when factoring in average alcohol consumption among its students. Our background research initially led us to believe that alcohol consumption would not have a positive correlation with university rank, even on the global scale. Based on this prior research, we hypothesized that a country’s higher education quality would be indirectly proportional to alcohol consumption. To carry out data analysis, we used two separate datasets. One of the datasets deals with ranking the top 2000 universities in the world and the other dataset deals with representing average alcohol consumption rates of an extensive variety of countries. Using linear regression analysis on our data, we found that there is a notable positive correlation between university reputation and alcoholic beverage consumption. Thus, our findings contradicted our hypothesis, and we now conclude that the alcohol consumption of a country’s citizens is directly proportional to the quality of higher education in said country."
   ]
  },
  {
   "cell_type": "markdown",
   "metadata": {},
   "source": [
    "The limitations of our project that stood out to us mainly stem from limitations found in the datasets we picked out. First of all, the average alcohol consumption data were collected in 2010, whereas the university ranking data corresponds to the 2019-2020 school year. Alcohol consumption rates have likely changed for many countries in that time span of around 10 years. Secondly, the college dataset is majoritively occupied by US schools, so this dataset is not a perfect representation of the question we initially pursued. In an ideal world, universities would be more equally distributed throughout the globe and our dataset would contain more data representing other countries of the world. Limitations aside, it is important to acknowledge that our group came to the conclusion that there is a positive correlation between alcohol consumption and the quality of education within a country. This leaves us with the question: what societal factors are causing this positive correlation? We think it is possible that alcoholic consumption rates tend to increase at universities with relatively difficult coursework because students try to cope with drinking. It is also quite possible that this positive correlation has to do with the fact that prospective university students might seek out universities that seem to have a lively partying/drinking scene. These universities still compete quite competitively on the global scale, so we have to assume that the noteworthy quality of education at these institutions is ultimately caused by the tuition spent by its students and how the institutions responsibly manage these funds."
   ]
  }
 ],
 "metadata": {
  "kernelspec": {
   "display_name": "Python 3 (ipykernel)",
   "language": "python",
   "name": "python3"
  },
  "language_info": {
   "codemirror_mode": {
    "name": "ipython",
    "version": 3
   },
   "file_extension": ".py",
   "mimetype": "text/x-python",
   "name": "python",
   "nbconvert_exporter": "python",
   "pygments_lexer": "ipython3",
   "version": "3.9.5"
  }
 },
 "nbformat": 4,
 "nbformat_minor": 2
}
